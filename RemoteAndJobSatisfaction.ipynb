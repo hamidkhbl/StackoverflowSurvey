{
 "cells": [
  {
   "cell_type": "markdown",
   "metadata": {},
   "source": [
    "## How working remotly affects job satisfaction?\n",
    "In this notebook I am going to "
   ]
  },
  {
   "cell_type": "code",
   "execution_count": 1,
   "metadata": {},
   "outputs": [],
   "source": [
    "# imports\n",
    "import numpy as np\n",
    "import pandas as pd\n",
    "from Wrangling import clean"
   ]
  },
  {
   "cell_type": "code",
   "execution_count": 2,
   "metadata": {},
   "outputs": [
    {
     "output_type": "execute_result",
     "data": {
      "text/plain": "    year            remote  CareerSat\n1   2016   Rarely or Never        5.0\n3   2016  Part-time remote        5.0\n7   2016   Rarely or Never        5.0\n9   2016   Rarely or Never        4.0\n11  2016  Part-time remote        5.0",
      "text/html": "<div>\n<style scoped>\n    .dataframe tbody tr th:only-of-type {\n        vertical-align: middle;\n    }\n\n    .dataframe tbody tr th {\n        vertical-align: top;\n    }\n\n    .dataframe thead th {\n        text-align: right;\n    }\n</style>\n<table border=\"1\" class=\"dataframe\">\n  <thead>\n    <tr style=\"text-align: right;\">\n      <th></th>\n      <th>year</th>\n      <th>remote</th>\n      <th>CareerSat</th>\n    </tr>\n  </thead>\n  <tbody>\n    <tr>\n      <th>1</th>\n      <td>2016</td>\n      <td>Rarely or Never</td>\n      <td>5.0</td>\n    </tr>\n    <tr>\n      <th>3</th>\n      <td>2016</td>\n      <td>Part-time remote</td>\n      <td>5.0</td>\n    </tr>\n    <tr>\n      <th>7</th>\n      <td>2016</td>\n      <td>Rarely or Never</td>\n      <td>5.0</td>\n    </tr>\n    <tr>\n      <th>9</th>\n      <td>2016</td>\n      <td>Rarely or Never</td>\n      <td>4.0</td>\n    </tr>\n    <tr>\n      <th>11</th>\n      <td>2016</td>\n      <td>Part-time remote</td>\n      <td>5.0</td>\n    </tr>\n  </tbody>\n</table>\n</div>"
     },
     "metadata": {},
     "execution_count": 2
    }
   ],
   "source": [
    "# clean the data using clean method in Wrangling.py file\n",
    "df = clean()\n",
    "df.head()"
   ]
  },
  {
   "cell_type": "code",
   "execution_count": 3,
   "metadata": {},
   "outputs": [
    {
     "output_type": "execute_result",
     "data": {
      "text/plain": "                year      CareerSat\ncount  150017.000000  150017.000000\nmean     2017.674837       3.949319\nstd         1.296461       1.052457\nmin      2016.000000       1.000000\n25%      2016.000000       4.000000\n50%      2017.000000       4.000000\n75%      2019.000000       5.000000\nmax      2019.000000       5.000000",
      "text/html": "<div>\n<style scoped>\n    .dataframe tbody tr th:only-of-type {\n        vertical-align: middle;\n    }\n\n    .dataframe tbody tr th {\n        vertical-align: top;\n    }\n\n    .dataframe thead th {\n        text-align: right;\n    }\n</style>\n<table border=\"1\" class=\"dataframe\">\n  <thead>\n    <tr style=\"text-align: right;\">\n      <th></th>\n      <th>year</th>\n      <th>CareerSat</th>\n    </tr>\n  </thead>\n  <tbody>\n    <tr>\n      <th>count</th>\n      <td>150017.000000</td>\n      <td>150017.000000</td>\n    </tr>\n    <tr>\n      <th>mean</th>\n      <td>2017.674837</td>\n      <td>3.949319</td>\n    </tr>\n    <tr>\n      <th>std</th>\n      <td>1.296461</td>\n      <td>1.052457</td>\n    </tr>\n    <tr>\n      <th>min</th>\n      <td>2016.000000</td>\n      <td>1.000000</td>\n    </tr>\n    <tr>\n      <th>25%</th>\n      <td>2016.000000</td>\n      <td>4.000000</td>\n    </tr>\n    <tr>\n      <th>50%</th>\n      <td>2017.000000</td>\n      <td>4.000000</td>\n    </tr>\n    <tr>\n      <th>75%</th>\n      <td>2019.000000</td>\n      <td>5.000000</td>\n    </tr>\n    <tr>\n      <th>max</th>\n      <td>2019.000000</td>\n      <td>5.000000</td>\n    </tr>\n  </tbody>\n</table>\n</div>"
     },
     "metadata": {},
     "execution_count": 3
    }
   ],
   "source": [
    "df.describe()"
   ]
  },
  {
   "cell_type": "code",
   "execution_count": 65,
   "metadata": {},
   "outputs": [],
   "source": [
    "# Calculate count, precentage, mean, var, std, lower 95 and upper 95\n",
    "def calc_amt(df, col_name, col_calc):\n",
    "    # Calculate mean for each remote category\n",
    "    df_mean = df.groupby(col_name).mean()[col_calc].reset_index().rename(columns = {'CareerSat':'mean'})\n",
    "\n",
    "    # Calculate var for each remote category\n",
    "    df_var = df.groupby(col_name).var()[col_calc].reset_index().rename(columns = {'CareerSat':'var'})\n",
    "\n",
    "    # Calculate std for each remote category\n",
    "    df_std = df.groupby(col_name).std()[col_calc].reset_index().rename(columns = {'CareerSat':'std'})\n",
    "\n",
    "    # Calculate count for each remote category\n",
    "    df_count = df.groupby(col_name).count()[col_calc].reset_index().rename(columns = {'CareerSat':'count'})\n",
    "    \n",
    "\n",
    "    # Merge all\n",
    "    df_all = pd.merge(df_mean, df_count, on='remote').merge(df_var, on='remote').merge(df_std, on='remote')\n",
    "\n",
    "    # Calculate precentage\n",
    "    df_all['perc'] = df_all['count'] / len(df)\n",
    "\n",
    "    # Calculate upper and lower 95 quantiles\n",
    "    df_all['lower_95'] = df_all['mean'] - 1.96*df_all['std']/np.sqrt(df_all['count'])\n",
    "    df_all['upper_95'] = df_all['mean'] + 1.96*df_all['std']/np.sqrt(df_all['count'])\n",
    "\n",
    "    return df_all\n"
   ]
  },
  {
   "cell_type": "code",
   "execution_count": 66,
   "metadata": {},
   "outputs": [
    {
     "output_type": "execute_result",
     "data": {
      "text/plain": "                  remote      mean  count       var       std      perc  \\\n0  A few days each month  4.036027  31976  0.951697  0.975549  0.213149   \n1       Full-time remote  4.072641  17552  1.139102  1.067287  0.117000   \n2       It's complicated  3.769259   5413  1.277311  1.130182  0.036083   \n3       Part-time remote  4.026884  24550  1.056510  1.027867  0.163648   \n4        Rarely or Never  3.866134  70526  1.156713  1.075506  0.470120   \n\n   lower_95  upper_95  \n0  4.025334  4.046720  \n1  4.056852  4.088431  \n2  3.739151  3.799367  \n3  4.014026  4.039742  \n4  3.858197  3.874072  ",
      "text/html": "<div>\n<style scoped>\n    .dataframe tbody tr th:only-of-type {\n        vertical-align: middle;\n    }\n\n    .dataframe tbody tr th {\n        vertical-align: top;\n    }\n\n    .dataframe thead th {\n        text-align: right;\n    }\n</style>\n<table border=\"1\" class=\"dataframe\">\n  <thead>\n    <tr style=\"text-align: right;\">\n      <th></th>\n      <th>remote</th>\n      <th>mean</th>\n      <th>count</th>\n      <th>var</th>\n      <th>std</th>\n      <th>perc</th>\n      <th>lower_95</th>\n      <th>upper_95</th>\n    </tr>\n  </thead>\n  <tbody>\n    <tr>\n      <th>0</th>\n      <td>A few days each month</td>\n      <td>4.036027</td>\n      <td>31976</td>\n      <td>0.951697</td>\n      <td>0.975549</td>\n      <td>0.213149</td>\n      <td>4.025334</td>\n      <td>4.046720</td>\n    </tr>\n    <tr>\n      <th>1</th>\n      <td>Full-time remote</td>\n      <td>4.072641</td>\n      <td>17552</td>\n      <td>1.139102</td>\n      <td>1.067287</td>\n      <td>0.117000</td>\n      <td>4.056852</td>\n      <td>4.088431</td>\n    </tr>\n    <tr>\n      <th>2</th>\n      <td>It's complicated</td>\n      <td>3.769259</td>\n      <td>5413</td>\n      <td>1.277311</td>\n      <td>1.130182</td>\n      <td>0.036083</td>\n      <td>3.739151</td>\n      <td>3.799367</td>\n    </tr>\n    <tr>\n      <th>3</th>\n      <td>Part-time remote</td>\n      <td>4.026884</td>\n      <td>24550</td>\n      <td>1.056510</td>\n      <td>1.027867</td>\n      <td>0.163648</td>\n      <td>4.014026</td>\n      <td>4.039742</td>\n    </tr>\n    <tr>\n      <th>4</th>\n      <td>Rarely or Never</td>\n      <td>3.866134</td>\n      <td>70526</td>\n      <td>1.156713</td>\n      <td>1.075506</td>\n      <td>0.470120</td>\n      <td>3.858197</td>\n      <td>3.874072</td>\n    </tr>\n  </tbody>\n</table>\n</div>"
     },
     "metadata": {},
     "execution_count": 66
    }
   ],
   "source": [
    "# check significance \n",
    "calc_amt(df, 'remote','CareerSat')"
   ]
  },
  {
   "cell_type": "code",
   "execution_count": 72,
   "metadata": {},
   "outputs": [
    {
     "output_type": "execute_result",
     "data": {
      "text/plain": "Empty DataFrame\nColumns: [year, remote, CareerSat]\nIndex: []",
      "text/html": "<div>\n<style scoped>\n    .dataframe tbody tr th:only-of-type {\n        vertical-align: middle;\n    }\n\n    .dataframe tbody tr th {\n        vertical-align: top;\n    }\n\n    .dataframe thead th {\n        text-align: right;\n    }\n</style>\n<table border=\"1\" class=\"dataframe\">\n  <thead>\n    <tr style=\"text-align: right;\">\n      <th></th>\n      <th>year</th>\n      <th>remote</th>\n      <th>CareerSat</th>\n    </tr>\n  </thead>\n  <tbody>\n  </tbody>\n</table>\n</div>"
     },
     "metadata": {},
     "execution_count": 72
    }
   ],
   "source": [
    "# Visualise\n"
   ]
  }
 ],
 "metadata": {
  "kernelspec": {
   "display_name": "Python 3",
   "language": "python",
   "name": "python3"
  },
  "language_info": {
   "codemirror_mode": {
    "name": "ipython",
    "version": 3
   },
   "file_extension": ".py",
   "mimetype": "text/x-python",
   "name": "python",
   "nbconvert_exporter": "python",
   "pygments_lexer": "ipython3",
   "version": "3.7.6-final"
  }
 },
 "nbformat": 4,
 "nbformat_minor": 4
}