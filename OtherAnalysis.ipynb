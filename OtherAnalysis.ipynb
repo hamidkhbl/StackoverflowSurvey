{
 "cells": [
  {
   "cell_type": "markdown",
   "metadata": {},
   "source": [
    "## More questions:\n",
    "> 1- Work challenges"
   ]
  },
  {
   "cell_type": "code",
   "execution_count": 3,
   "metadata": {},
   "outputs": [],
   "source": [
    "# imports\n",
    "import numpy as np\n",
    "import pandas as pd\n",
    "import matplotlib.pyplot as plt\n",
    "from matplotlib.ticker import PercentFormatter\n",
    "import seaborn as sns\n",
    "%matplotlib inline"
   ]
  },
  {
   "cell_type": "code",
   "execution_count": 4,
   "metadata": {},
   "outputs": [],
   "source": [
    "df = pd.read_csv('survey_results_public_2019.csv', encoding =  \"ISO-8859-1\", low_memory=False)"
   ]
  },
  {
   "cell_type": "code",
   "execution_count": 7,
   "metadata": {},
   "outputs": [],
   "source": [
    "df = df[df['WorkRemote'].notna()]"
   ]
  },
  {
   "cell_type": "code",
   "execution_count": 8,
   "metadata": {},
   "outputs": [
    {
     "data": {
      "text/plain": [
       "Less than once per month / Never                           30220\n",
       "A few days each month                                      17242\n",
       "All or almost all the time (I'm full-time remote)           8465\n",
       "Less than half the time, but at least one day each week     6320\n",
       "It's complicated                                            3675\n",
       "More than half, but not all, the time                       2376\n",
       "About half the time                                         1986\n",
       "Name: WorkRemote, dtype: int64"
      ]
     },
     "execution_count": 8,
     "metadata": {},
     "output_type": "execute_result"
    }
   ],
   "source": [
    "df['WorkRemote'].value_counts()"
   ]
  },
  {
   "cell_type": "markdown",
   "metadata": {},
   "source": [
    "#### 1- Work Challenges"
   ]
  },
  {
   "cell_type": "code",
   "execution_count": 23,
   "metadata": {},
   "outputs": [
    {
     "data": {
      "text/html": [
       "<div>\n",
       "<style scoped>\n",
       "    .dataframe tbody tr th:only-of-type {\n",
       "        vertical-align: middle;\n",
       "    }\n",
       "\n",
       "    .dataframe tbody tr th {\n",
       "        vertical-align: top;\n",
       "    }\n",
       "\n",
       "    .dataframe thead th {\n",
       "        text-align: right;\n",
       "    }\n",
       "</style>\n",
       "<table border=\"1\" class=\"dataframe\">\n",
       "  <thead>\n",
       "    <tr style=\"text-align: right;\">\n",
       "      <th></th>\n",
       "      <th>WorkChallenge</th>\n",
       "      <th>Respondent</th>\n",
       "    </tr>\n",
       "  </thead>\n",
       "  <tbody>\n",
       "    <tr>\n",
       "      <th>4</th>\n",
       "      <td>Being tasked with non-development work;Distrac...</td>\n",
       "      <td>967</td>\n",
       "    </tr>\n",
       "    <tr>\n",
       "      <th>6</th>\n",
       "      <td>Being tasked with non-development work;Distrac...</td>\n",
       "      <td>732</td>\n",
       "    </tr>\n",
       "    <tr>\n",
       "      <th>24</th>\n",
       "      <td>Being tasked with non-development work;Meeting...</td>\n",
       "      <td>700</td>\n",
       "    </tr>\n",
       "    <tr>\n",
       "      <th>53</th>\n",
       "      <td>Distracting work environment;Meetings;Not enou...</td>\n",
       "      <td>594</td>\n",
       "    </tr>\n",
       "    <tr>\n",
       "      <th>37</th>\n",
       "      <td>Distracting work environment</td>\n",
       "      <td>591</td>\n",
       "    </tr>\n",
       "    <tr>\n",
       "      <th>...</th>\n",
       "      <td>...</td>\n",
       "      <td>...</td>\n",
       "    </tr>\n",
       "    <tr>\n",
       "      <th>127</th>\n",
       "      <td>Time spent commuting;Toxic work environment</td>\n",
       "      <td>42</td>\n",
       "    </tr>\n",
       "    <tr>\n",
       "      <th>108</th>\n",
       "      <td>Meetings;Non-work commitments (parenting, scho...</td>\n",
       "      <td>42</td>\n",
       "    </tr>\n",
       "    <tr>\n",
       "      <th>90</th>\n",
       "      <td>Lack of support from management;Meetings;Non-w...</td>\n",
       "      <td>37</td>\n",
       "    </tr>\n",
       "    <tr>\n",
       "      <th>81</th>\n",
       "      <td>Inadequate access to necessary tools;Non-work ...</td>\n",
       "      <td>36</td>\n",
       "    </tr>\n",
       "    <tr>\n",
       "      <th>121</th>\n",
       "      <td>Non-work commitments (parenting, school work, ...</td>\n",
       "      <td>24</td>\n",
       "    </tr>\n",
       "  </tbody>\n",
       "</table>\n",
       "<p>129 rows × 2 columns</p>\n",
       "</div>"
      ],
      "text/plain": [
       "                                         WorkChallenge  Respondent\n",
       "4    Being tasked with non-development work;Distrac...         967\n",
       "6    Being tasked with non-development work;Distrac...         732\n",
       "24   Being tasked with non-development work;Meeting...         700\n",
       "53   Distracting work environment;Meetings;Not enou...         594\n",
       "37                        Distracting work environment         591\n",
       "..                                                 ...         ...\n",
       "127        Time spent commuting;Toxic work environment          42\n",
       "108  Meetings;Non-work commitments (parenting, scho...          42\n",
       "90   Lack of support from management;Meetings;Non-w...          37\n",
       "81   Inadequate access to necessary tools;Non-work ...          36\n",
       "121  Non-work commitments (parenting, school work, ...          24\n",
       "\n",
       "[129 rows x 2 columns]"
      ]
     },
     "execution_count": 23,
     "metadata": {},
     "output_type": "execute_result"
    }
   ],
   "source": [
    "df[df['WorkRemote'] == \"All or almost all the time (I'm full-time remote)\"].groupby('WorkChallenge').count()['Respondent'].reset_index().sort_values('Respondent', ascending = False)"
   ]
  },
  {
   "cell_type": "code",
   "execution_count": 40,
   "metadata": {},
   "outputs": [
    {
     "name": "stdout",
     "output_type": "stream",
     "text": [
      "\n",
      "\n",
      "Less than once per month / Never\n",
      "                                              method  count\n",
      "2                       Distracting work environment  12352\n",
      "4             Being tasked with non-development work  11021\n",
      "5                 Not enough people for the workload   9830\n",
      "8                                           Meetings   9771\n",
      "0                    Lack of support from management   8298\n",
      "7               Inadequate access to necessary tools   6898\n",
      "6                             Toxic work environment   6304\n",
      "3                               Time spent commuting   5723\n",
      "1  Non-work commitments (parenting, school work, ...   4518\n",
      "\n",
      "\n",
      "A few days each month\n",
      "                                              method  count\n",
      "2                       Distracting work environment   7291\n",
      "8                                           Meetings   6925\n",
      "4             Being tasked with non-development work   6143\n",
      "5                 Not enough people for the workload   5780\n",
      "0                    Lack of support from management   4205\n",
      "3                               Time spent commuting   3642\n",
      "6                             Toxic work environment   3305\n",
      "7               Inadequate access to necessary tools   3292\n",
      "1  Non-work commitments (parenting, school work, ...   3096\n",
      "\n",
      "\n",
      "All or almost all the time (I'm full-time remote)\n",
      "                                              method  count\n",
      "8                                           Meetings   2919\n",
      "2                       Distracting work environment   2903\n",
      "1  Non-work commitments (parenting, school work, ...   2825\n",
      "4             Being tasked with non-development work   2814\n",
      "5                 Not enough people for the workload   2586\n",
      "0                    Lack of support from management   1855\n",
      "6                             Toxic work environment   1497\n",
      "7               Inadequate access to necessary tools   1279\n",
      "3                               Time spent commuting    977\n",
      "\n",
      "\n",
      "Less than half the time, but at least one day each week\n",
      "                                              method  count\n",
      "2                       Distracting work environment   2673\n",
      "8                                           Meetings   2588\n",
      "4             Being tasked with non-development work   2136\n",
      "5                 Not enough people for the workload   2100\n",
      "3                               Time spent commuting   1608\n",
      "0                    Lack of support from management   1542\n",
      "1  Non-work commitments (parenting, school work, ...   1294\n",
      "7               Inadequate access to necessary tools   1210\n",
      "6                             Toxic work environment   1161\n",
      "\n",
      "\n",
      "It's complicated\n",
      "                                              method  count\n",
      "2                       Distracting work environment   1486\n",
      "4             Being tasked with non-development work   1183\n",
      "8                                           Meetings   1106\n",
      "6                 Not enough people for the workload   1101\n",
      "0                    Lack of support from management   1055\n",
      "5                             Toxic work environment    947\n",
      "3                               Time spent commuting    853\n",
      "7               Inadequate access to necessary tools    810\n",
      "1  Non-work commitments (parenting, school work, ...    725\n",
      "\n",
      "\n",
      "More than half, but not all, the time\n",
      "                                              method  count\n",
      "2                       Distracting work environment    868\n",
      "8                                           Meetings    860\n",
      "4             Being tasked with non-development work    793\n",
      "5                 Not enough people for the workload    768\n",
      "1  Non-work commitments (parenting, school work, ...    607\n",
      "0                    Lack of support from management    583\n",
      "3                               Time spent commuting    583\n",
      "6                             Toxic work environment    454\n",
      "7               Inadequate access to necessary tools    424\n",
      "\n",
      "\n",
      "About half the time\n",
      "                                              method  count\n",
      "2                       Distracting work environment    798\n",
      "8                                           Meetings    702\n",
      "4             Being tasked with non-development work    662\n",
      "5                 Not enough people for the workload    635\n",
      "3                               Time spent commuting    514\n",
      "0                    Lack of support from management    489\n",
      "1  Non-work commitments (parenting, school work, ...    419\n",
      "6                             Toxic work environment    412\n",
      "7               Inadequate access to necessary tools    397\n"
     ]
    }
   ],
   "source": [
    "from collections import defaultdict\n",
    "def total_count(df, col1, col2, look_for):\n",
    "    '''\n",
    "    INPUT:\n",
    "    df - the pandas dataframe you want to search\n",
    "    col1 - the column name you want to look through\n",
    "    col2 - the column you want to count values from\n",
    "    look_for - a list of strings you want to search for in each row of df[col]\n",
    "    \n",
    "    OUTPUT:\n",
    "    new_df - a dataframe of each look_for with the count of how often it shows up \n",
    "    '''\n",
    "    new_df = defaultdict(int)\n",
    "    for val in look_for:\n",
    "        for idx in range(df.shape[0]):\n",
    "            if val in df[col1][idx]:\n",
    "                new_df[val] += int(df[col2][idx])   \n",
    "    new_df = pd.DataFrame(pd.Series(new_df)).reset_index()\n",
    "    new_df.columns = [col1, col2]\n",
    "    new_df.sort_values('count', ascending=False, inplace=True)\n",
    "    return new_df\n",
    "\n",
    "\n",
    "remote_options = ['Less than once per month / Never', 'A few days each month', \"All or almost all the time (I'm full-time remote)\"\n",
    "                  ,'Less than half the time, but at least one day each week',\"It's complicated\",'More than half, but not all, the time','About half the time']   \n",
    "\n",
    "for r in remote_options:\n",
    "    print()\n",
    "    print()\n",
    "    print(r)\n",
    "    \n",
    "    challenge  = df[df['WorkRemote']==r]['WorkChallenge'].value_counts().reset_index()\n",
    "    challenge.rename(columns={'index':'method', 'WorkChallenge':'count'}, inplace=True)\n",
    "    possible_values = set()\n",
    "    challenge['method'].apply(lambda x : [possible_values.add(item) for item in x.split(';')])\n",
    "\n",
    "    print(total_count(challenge, 'method', 'count', possible_values))"
   ]
  },
  {
   "cell_type": "markdown",
   "metadata": {},
   "source": [
    "#### 2- Operating system"
   ]
  },
  {
   "cell_type": "code",
   "execution_count": 59,
   "metadata": {},
   "outputs": [
    {
     "name": "stdout",
     "output_type": "stream",
     "text": [
      "        method  count\n",
      "2        MacOS   3158\n",
      "3      Windows   2944\n",
      "1  Linux-based   2279\n",
      "0          BSD     16\n",
      "        method  count\n",
      "3      Windows  28650\n",
      "2        MacOS  17469\n",
      "1  Linux-based  15248\n",
      "0          BSD     64\n",
      "        method  count\n",
      "3      Windows  31594\n",
      "2        MacOS  20627\n",
      "1  Linux-based  17527\n",
      "0          BSD     80\n"
     ]
    }
   ],
   "source": [
    "remote_options = ['Less than once per month / Never', 'A few days each month', \"All or almost all the time (I'm full-time remote)\"\n",
    "                  ,'Less than half the time, but at least one day each week',\"It's complicated\",'More than half, but not all, the time','About half the time']   \n",
    "\n",
    "\n",
    "challenge  = df[df['WorkRemote']==\"All or almost all the time (I'm full-time remote)\"]['OpSys'].value_counts().reset_index()\n",
    "challenge.rename(columns={'index':'method', 'OpSys':'count'}, inplace=True)\n",
    "possible_values = set()\n",
    "challenge['method'].apply(lambda x : [possible_values.add(item) for item in x.split(';')])\n",
    "print(total_count(challenge, 'method', 'count', possible_values))\n",
    "\n",
    "challenge  = df[df['WorkRemote']!=\"All or almost all the time (I'm full-time remote)\"]['OpSys'].value_counts().reset_index()\n",
    "challenge.rename(columns={'index':'method', 'OpSys':'count'}, inplace=True)\n",
    "possible_values = set()\n",
    "challenge['method'].apply(lambda x : [possible_values.add(item) for item in x.split(';')])\n",
    "print(total_count(challenge, 'method', 'count', possible_values))\n",
    "\n",
    "challenge  = df['OpSys'].value_counts().reset_index()\n",
    "challenge.rename(columns={'index':'method', 'OpSys':'count'}, inplace=True)\n",
    "possible_values = set()\n",
    "challenge['method'].apply(lambda x : [possible_values.add(item) for item in x.split(';')])\n",
    "print(total_count(challenge, 'method', 'count', possible_values))"
   ]
  },
  {
   "cell_type": "markdown",
   "metadata": {},
   "source": [
    "#### 3- Country"
   ]
  },
  {
   "cell_type": "code",
   "execution_count": 68,
   "metadata": {},
   "outputs": [
    {
     "data": {
      "text/html": [
       "<div>\n",
       "<style scoped>\n",
       "    .dataframe tbody tr th:only-of-type {\n",
       "        vertical-align: middle;\n",
       "    }\n",
       "\n",
       "    .dataframe tbody tr th {\n",
       "        vertical-align: top;\n",
       "    }\n",
       "\n",
       "    .dataframe thead th {\n",
       "        text-align: right;\n",
       "    }\n",
       "</style>\n",
       "<table border=\"1\" class=\"dataframe\">\n",
       "  <thead>\n",
       "    <tr style=\"text-align: right;\">\n",
       "      <th></th>\n",
       "      <th></th>\n",
       "      <th>Respondent</th>\n",
       "    </tr>\n",
       "    <tr>\n",
       "      <th>Country</th>\n",
       "      <th>WorkRemote</th>\n",
       "      <th></th>\n",
       "    </tr>\n",
       "  </thead>\n",
       "  <tbody>\n",
       "    <tr>\n",
       "      <th>South Africa</th>\n",
       "      <th>More than half, but not all, the time</th>\n",
       "      <td>0.772201</td>\n",
       "    </tr>\n",
       "    <tr>\n",
       "      <th>Slovenia</th>\n",
       "      <th>About half the time</th>\n",
       "      <td>0.806452</td>\n",
       "    </tr>\n",
       "    <tr>\n",
       "      <th>Malaysia</th>\n",
       "      <th>About half the time</th>\n",
       "      <td>0.947867</td>\n",
       "    </tr>\n",
       "    <tr>\n",
       "      <th>South Korea</th>\n",
       "      <th>More than half, but not all, the time</th>\n",
       "      <td>0.952381</td>\n",
       "    </tr>\n",
       "    <tr>\n",
       "      <th>Uruguay</th>\n",
       "      <th>More than half, but not all, the time</th>\n",
       "      <td>1.010101</td>\n",
       "    </tr>\n",
       "    <tr>\n",
       "      <th>...</th>\n",
       "      <th>...</th>\n",
       "      <td>...</td>\n",
       "    </tr>\n",
       "    <tr>\n",
       "      <th>Bahamas</th>\n",
       "      <th>All or almost all the time (I'm full-time remote)</th>\n",
       "      <td>100.000000</td>\n",
       "    </tr>\n",
       "    <tr>\n",
       "      <th>Djibouti</th>\n",
       "      <th>Less than once per month / Never</th>\n",
       "      <td>100.000000</td>\n",
       "    </tr>\n",
       "    <tr>\n",
       "      <th>Lesotho</th>\n",
       "      <th>Less than once per month / Never</th>\n",
       "      <td>100.000000</td>\n",
       "    </tr>\n",
       "    <tr>\n",
       "      <th>Angola</th>\n",
       "      <th>It's complicated</th>\n",
       "      <td>100.000000</td>\n",
       "    </tr>\n",
       "    <tr>\n",
       "      <th>Timor-Leste</th>\n",
       "      <th>A few days each month</th>\n",
       "      <td>100.000000</td>\n",
       "    </tr>\n",
       "  </tbody>\n",
       "</table>\n",
       "<p>925 rows × 1 columns</p>\n",
       "</div>"
      ],
      "text/plain": [
       "                                                                Respondent\n",
       "Country      WorkRemote                                                   \n",
       "South Africa More than half, but not all, the time                0.772201\n",
       "Slovenia     About half the time                                  0.806452\n",
       "Malaysia     About half the time                                  0.947867\n",
       "South Korea  More than half, but not all, the time                0.952381\n",
       "Uruguay      More than half, but not all, the time                1.010101\n",
       "...                                                                    ...\n",
       "Bahamas      All or almost all the time (I'm full-time remote)  100.000000\n",
       "Djibouti     Less than once per month / Never                   100.000000\n",
       "Lesotho      Less than once per month / Never                   100.000000\n",
       "Angola       It's complicated                                   100.000000\n",
       "Timor-Leste  A few days each month                              100.000000\n",
       "\n",
       "[925 rows x 1 columns]"
      ]
     },
     "execution_count": 68,
     "metadata": {},
     "output_type": "execute_result"
    }
   ],
   "source": [
    "df.groupby(['Country', 'WorkRemote']).agg({'Respondent': 'count'}).groupby(level=0).apply(lambda x:100 * x / float(x.sum())).sort_values('Respondent')"
   ]
  },
  {
   "cell_type": "code",
   "execution_count": 19,
   "metadata": {},
   "outputs": [
    {
     "data": {
      "text/html": [
       "<div>\n",
       "<style scoped>\n",
       "    .dataframe tbody tr th:only-of-type {\n",
       "        vertical-align: middle;\n",
       "    }\n",
       "\n",
       "    .dataframe tbody tr th {\n",
       "        vertical-align: top;\n",
       "    }\n",
       "\n",
       "    .dataframe thead th {\n",
       "        text-align: right;\n",
       "    }\n",
       "</style>\n",
       "<table border=\"1\" class=\"dataframe\">\n",
       "  <thead>\n",
       "    <tr style=\"text-align: right;\">\n",
       "      <th></th>\n",
       "      <th>Country</th>\n",
       "      <th>Respondent</th>\n",
       "    </tr>\n",
       "  </thead>\n",
       "  <tbody>\n",
       "    <tr>\n",
       "      <th>127</th>\n",
       "      <td>United States</td>\n",
       "      <td>2778</td>\n",
       "    </tr>\n",
       "    <tr>\n",
       "      <th>51</th>\n",
       "      <td>India</td>\n",
       "      <td>442</td>\n",
       "    </tr>\n",
       "    <tr>\n",
       "      <th>125</th>\n",
       "      <td>United Kingdom</td>\n",
       "      <td>437</td>\n",
       "    </tr>\n",
       "    <tr>\n",
       "      <th>21</th>\n",
       "      <td>Canada</td>\n",
       "      <td>364</td>\n",
       "    </tr>\n",
       "    <tr>\n",
       "      <th>42</th>\n",
       "      <td>Germany</td>\n",
       "      <td>326</td>\n",
       "    </tr>\n",
       "    <tr>\n",
       "      <th>...</th>\n",
       "      <td>...</td>\n",
       "      <td>...</td>\n",
       "    </tr>\n",
       "    <tr>\n",
       "      <th>13</th>\n",
       "      <td>Benin</td>\n",
       "      <td>1</td>\n",
       "    </tr>\n",
       "    <tr>\n",
       "      <th>9</th>\n",
       "      <td>Bahamas</td>\n",
       "      <td>1</td>\n",
       "    </tr>\n",
       "    <tr>\n",
       "      <th>8</th>\n",
       "      <td>Azerbaijan</td>\n",
       "      <td>1</td>\n",
       "    </tr>\n",
       "    <tr>\n",
       "      <th>3</th>\n",
       "      <td>Antigua and Barbuda</td>\n",
       "      <td>1</td>\n",
       "    </tr>\n",
       "    <tr>\n",
       "      <th>134</th>\n",
       "      <td>Zimbabwe</td>\n",
       "      <td>1</td>\n",
       "    </tr>\n",
       "  </tbody>\n",
       "</table>\n",
       "<p>135 rows × 2 columns</p>\n",
       "</div>"
      ],
      "text/plain": [
       "                 Country  Respondent\n",
       "127        United States        2778\n",
       "51                 India         442\n",
       "125       United Kingdom         437\n",
       "21                Canada         364\n",
       "42               Germany         326\n",
       "..                   ...         ...\n",
       "13                 Benin           1\n",
       "9                Bahamas           1\n",
       "8             Azerbaijan           1\n",
       "3    Antigua and Barbuda           1\n",
       "134             Zimbabwe           1\n",
       "\n",
       "[135 rows x 2 columns]"
      ]
     },
     "execution_count": 19,
     "metadata": {},
     "output_type": "execute_result"
    }
   ],
   "source": [
    "df[df['WorkRemote'] == \"All or almost all the time (I'm full-time remote)\"].groupby('Country').count()['Respondent'].reset_index().sort_values('Respondent', ascending = False)"
   ]
  },
  {
   "cell_type": "markdown",
   "metadata": {},
   "source": [
    "#### Company size"
   ]
  },
  {
   "cell_type": "code",
   "execution_count": 69,
   "metadata": {},
   "outputs": [
    {
     "data": {
      "text/plain": [
       "20 to 99 employees                                    14670\n",
       "100 to 499 employees                                  12338\n",
       "10,000 or more employees                               9657\n",
       "1,000 to 4,999 employees                               7210\n",
       "2-9 employees                                          7040\n",
       "10 to 19 employees                                     6505\n",
       "500 to 999 employees                                   4357\n",
       "Just me - I am a freelancer, sole proprietor, etc.     3742\n",
       "5,000 to 9,999 employees                               2859\n",
       "Name: OrgSize, dtype: int64"
      ]
     },
     "execution_count": 69,
     "metadata": {},
     "output_type": "execute_result"
    }
   ],
   "source": [
    "df['OrgSize'].value_counts()"
   ]
  },
  {
   "cell_type": "code",
   "execution_count": 71,
   "metadata": {},
   "outputs": [
    {
     "data": {
      "text/plain": [
       "Just me - I am a freelancer, sole proprietor, etc.    1968\n",
       "2-9 employees                                         1670\n",
       "20 to 99 employees                                    1383\n",
       "100 to 499 employees                                   971\n",
       "10 to 19 employees                                     878\n",
       "10,000 or more employees                               499\n",
       "1,000 to 4,999 employees                               417\n",
       "500 to 999 employees                                   315\n",
       "5,000 to 9,999 employees                               145\n",
       "Name: OrgSize, dtype: int64"
      ]
     },
     "execution_count": 71,
     "metadata": {},
     "output_type": "execute_result"
    }
   ],
   "source": [
    "df[df['WorkRemote'] == \"All or almost all the time (I'm full-time remote)\"]['OrgSize'].value_counts()"
   ]
  },
  {
   "cell_type": "code",
   "execution_count": 72,
   "metadata": {},
   "outputs": [
    {
     "data": {
      "text/plain": [
       "20 to 99 employees                                    7011\n",
       "100 to 499 employees                                  5961\n",
       "10,000 or more employees                              4010\n",
       "1,000 to 4,999 employees                              3416\n",
       "10 to 19 employees                                    2904\n",
       "2-9 employees                                         2346\n",
       "500 to 999 employees                                  2041\n",
       "5,000 to 9,999 employees                              1304\n",
       "Just me - I am a freelancer, sole proprietor, etc.     376\n",
       "Name: OrgSize, dtype: int64"
      ]
     },
     "execution_count": 72,
     "metadata": {},
     "output_type": "execute_result"
    }
   ],
   "source": [
    "df[df['WorkRemote'] == \"Less than once per month / Never\"]['OrgSize'].value_counts()"
   ]
  },
  {
   "cell_type": "markdown",
   "metadata": {},
   "source": [
    "#### Social media"
   ]
  },
  {
   "cell_type": "code",
   "execution_count": 20,
   "metadata": {},
   "outputs": [
    {
     "data": {
      "text/html": [
       "<div>\n",
       "<style scoped>\n",
       "    .dataframe tbody tr th:only-of-type {\n",
       "        vertical-align: middle;\n",
       "    }\n",
       "\n",
       "    .dataframe tbody tr th {\n",
       "        vertical-align: top;\n",
       "    }\n",
       "\n",
       "    .dataframe thead th {\n",
       "        text-align: right;\n",
       "    }\n",
       "</style>\n",
       "<table border=\"1\" class=\"dataframe\">\n",
       "  <thead>\n",
       "    <tr style=\"text-align: right;\">\n",
       "      <th></th>\n",
       "      <th>SocialMedia</th>\n",
       "      <th>Respondent</th>\n",
       "    </tr>\n",
       "  </thead>\n",
       "  <tbody>\n",
       "    <tr>\n",
       "      <th>7</th>\n",
       "      <td>Twitter</td>\n",
       "      <td>1653</td>\n",
       "    </tr>\n",
       "    <tr>\n",
       "      <th>0</th>\n",
       "      <td>Facebook</td>\n",
       "      <td>1279</td>\n",
       "    </tr>\n",
       "    <tr>\n",
       "      <th>5</th>\n",
       "      <td>Reddit</td>\n",
       "      <td>1249</td>\n",
       "    </tr>\n",
       "    <tr>\n",
       "      <th>12</th>\n",
       "      <td>YouTube</td>\n",
       "      <td>1132</td>\n",
       "    </tr>\n",
       "    <tr>\n",
       "      <th>11</th>\n",
       "      <td>WhatsApp</td>\n",
       "      <td>987</td>\n",
       "    </tr>\n",
       "    <tr>\n",
       "      <th>2</th>\n",
       "      <td>I don't use social media</td>\n",
       "      <td>689</td>\n",
       "    </tr>\n",
       "    <tr>\n",
       "      <th>3</th>\n",
       "      <td>Instagram</td>\n",
       "      <td>537</td>\n",
       "    </tr>\n",
       "    <tr>\n",
       "      <th>4</th>\n",
       "      <td>LinkedIn</td>\n",
       "      <td>426</td>\n",
       "    </tr>\n",
       "    <tr>\n",
       "      <th>8</th>\n",
       "      <td>VK ÐÐÐ¾Ð½ÑÐ°ÌÐºÑÐµ</td>\n",
       "      <td>76</td>\n",
       "    </tr>\n",
       "    <tr>\n",
       "      <th>6</th>\n",
       "      <td>Snapchat</td>\n",
       "      <td>34</td>\n",
       "    </tr>\n",
       "    <tr>\n",
       "      <th>9</th>\n",
       "      <td>WeChat å¾®ä¿¡</td>\n",
       "      <td>19</td>\n",
       "    </tr>\n",
       "    <tr>\n",
       "      <th>1</th>\n",
       "      <td>Hello</td>\n",
       "      <td>2</td>\n",
       "    </tr>\n",
       "    <tr>\n",
       "      <th>13</th>\n",
       "      <td>Youku Tudou ä¼é",
       "·</td>\n",
       "      <td>2</td>\n",
       "    </tr>\n",
       "    <tr>\n",
       "      <th>10</th>\n",
       "      <td>Weibo æ°æµªå¾®å</td>\n",
       "      <td>1</td>\n",
       "    </tr>\n",
       "  </tbody>\n",
       "</table>\n",
       "</div>"
      ],
      "text/plain": [
       "                 SocialMedia  Respondent\n",
       "7                    Twitter        1653\n",
       "0                   Facebook        1279\n",
       "5                     Reddit        1249\n",
       "12                   YouTube        1132\n",
       "11                  WhatsApp         987\n",
       "2   I don't use social media         689\n",
       "3                  Instagram         537\n",
       "4                   LinkedIn         426\n",
       "8    VK ÐÐÐ¾Ð½ÑÐ°ÌÐºÑÐµ          76\n",
       "6                   Snapchat          34\n",
       "9              WeChat å¾®ä¿¡          19\n",
       "1                      Hello           2\n",
       "13        Youku Tudou ä¼é\n",
       "·           2\n",
       "10        Weibo æ°æµªå¾®å           1"
      ]
     },
     "execution_count": 20,
     "metadata": {},
     "output_type": "execute_result"
    }
   ],
   "source": [
    "df[df['WorkRemote'] == \"All or almost all the time (I'm full-time remote)\"].groupby('SocialMedia').count()['Respondent'].reset_index().sort_values('Respondent', ascending = False)"
   ]
  },
  {
   "cell_type": "code",
   "execution_count": 24,
   "metadata": {},
   "outputs": [
    {
     "data": {
      "text/html": [
       "<div>\n",
       "<style scoped>\n",
       "    .dataframe tbody tr th:only-of-type {\n",
       "        vertical-align: middle;\n",
       "    }\n",
       "\n",
       "    .dataframe tbody tr th {\n",
       "        vertical-align: top;\n",
       "    }\n",
       "\n",
       "    .dataframe thead th {\n",
       "        text-align: right;\n",
       "    }\n",
       "</style>\n",
       "<table border=\"1\" class=\"dataframe\">\n",
       "  <thead>\n",
       "    <tr style=\"text-align: right;\">\n",
       "      <th></th>\n",
       "      <th>SocialMedia</th>\n",
       "      <th>Respondent</th>\n",
       "    </tr>\n",
       "  </thead>\n",
       "  <tbody>\n",
       "    <tr>\n",
       "      <th>5</th>\n",
       "      <td>Reddit</td>\n",
       "      <td>5216</td>\n",
       "    </tr>\n",
       "    <tr>\n",
       "      <th>11</th>\n",
       "      <td>WhatsApp</td>\n",
       "      <td>4938</td>\n",
       "    </tr>\n",
       "    <tr>\n",
       "      <th>0</th>\n",
       "      <td>Facebook</td>\n",
       "      <td>4672</td>\n",
       "    </tr>\n",
       "    <tr>\n",
       "      <th>12</th>\n",
       "      <td>YouTube</td>\n",
       "      <td>4475</td>\n",
       "    </tr>\n",
       "    <tr>\n",
       "      <th>7</th>\n",
       "      <td>Twitter</td>\n",
       "      <td>3586</td>\n",
       "    </tr>\n",
       "    <tr>\n",
       "      <th>3</th>\n",
       "      <td>Instagram</td>\n",
       "      <td>2133</td>\n",
       "    </tr>\n",
       "    <tr>\n",
       "      <th>2</th>\n",
       "      <td>I don't use social media</td>\n",
       "      <td>1803</td>\n",
       "    </tr>\n",
       "    <tr>\n",
       "      <th>4</th>\n",
       "      <td>LinkedIn</td>\n",
       "      <td>1504</td>\n",
       "    </tr>\n",
       "    <tr>\n",
       "      <th>9</th>\n",
       "      <td>WeChat å¾®ä¿¡</td>\n",
       "      <td>300</td>\n",
       "    </tr>\n",
       "    <tr>\n",
       "      <th>8</th>\n",
       "      <td>VK ÐÐÐ¾Ð½ÑÐ°ÌÐºÑÐµ</td>\n",
       "      <td>192</td>\n",
       "    </tr>\n",
       "    <tr>\n",
       "      <th>6</th>\n",
       "      <td>Snapchat</td>\n",
       "      <td>164</td>\n",
       "    </tr>\n",
       "    <tr>\n",
       "      <th>10</th>\n",
       "      <td>Weibo æ°æµªå¾®å</td>\n",
       "      <td>31</td>\n",
       "    </tr>\n",
       "    <tr>\n",
       "      <th>13</th>\n",
       "      <td>Youku Tudou ä¼é",
       "·</td>\n",
       "      <td>5</td>\n",
       "    </tr>\n",
       "    <tr>\n",
       "      <th>1</th>\n",
       "      <td>Hello</td>\n",
       "      <td>1</td>\n",
       "    </tr>\n",
       "  </tbody>\n",
       "</table>\n",
       "</div>"
      ],
      "text/plain": [
       "                 SocialMedia  Respondent\n",
       "5                     Reddit        5216\n",
       "11                  WhatsApp        4938\n",
       "0                   Facebook        4672\n",
       "12                   YouTube        4475\n",
       "7                    Twitter        3586\n",
       "3                  Instagram        2133\n",
       "2   I don't use social media        1803\n",
       "4                   LinkedIn        1504\n",
       "9              WeChat å¾®ä¿¡         300\n",
       "8    VK ÐÐÐ¾Ð½ÑÐ°ÌÐºÑÐµ         192\n",
       "6                   Snapchat         164\n",
       "10        Weibo æ°æµªå¾®å          31\n",
       "13        Youku Tudou ä¼é\n",
       "·           5\n",
       "1                      Hello           1"
      ]
     },
     "execution_count": 24,
     "metadata": {},
     "output_type": "execute_result"
    }
   ],
   "source": [
    "df[df['WorkRemote'] == \"Less than once per month / Never\"].groupby('SocialMedia').count()['Respondent'].reset_index().sort_values('Respondent', ascending = False)"
   ]
  },
  {
   "cell_type": "markdown",
   "metadata": {},
   "source": [
    "### Workhour per week"
   ]
  },
  {
   "cell_type": "code",
   "execution_count": 73,
   "metadata": {},
   "outputs": [
    {
     "data": {
      "text/plain": [
       "40.00    30061\n",
       "45.00     6322\n",
       "50.00     4639\n",
       "35.00     3152\n",
       "37.50     1660\n",
       "         ...  \n",
       "46.50        1\n",
       "41.20        1\n",
       "8.15         1\n",
       "7.22         1\n",
       "35.75        1\n",
       "Name: WorkWeekHrs, Length: 206, dtype: int64"
      ]
     },
     "execution_count": 73,
     "metadata": {},
     "output_type": "execute_result"
    }
   ],
   "source": [
    "df['WorkWeekHrs'].value_counts()"
   ]
  },
  {
   "cell_type": "code",
   "execution_count": 76,
   "metadata": {},
   "outputs": [
    {
     "data": {
      "text/plain": [
       "40.0     13714\n",
       "45.0      2952\n",
       "50.0      1638\n",
       "35.0      1158\n",
       "37.5       930\n",
       "         ...  \n",
       "36.2         1\n",
       "46.5         1\n",
       "73.0         1\n",
       "21.5         1\n",
       "130.0        1\n",
       "Name: WorkWeekHrs, Length: 166, dtype: int64"
      ]
     },
     "execution_count": 76,
     "metadata": {},
     "output_type": "execute_result"
    }
   ],
   "source": [
    "df[df['WorkRemote'] == \"Less than once per month / Never\"]['WorkWeekHrs'].value_counts()"
   ]
  },
  {
   "cell_type": "code",
   "execution_count": 77,
   "metadata": {},
   "outputs": [
    {
     "data": {
      "text/plain": [
       "40.00     3036\n",
       "50.00      695\n",
       "45.00      521\n",
       "30.00      494\n",
       "35.00      445\n",
       "          ... \n",
       "19.00        1\n",
       "110.00       1\n",
       "88.33        1\n",
       "63.00        1\n",
       "62.50        1\n",
       "Name: WorkWeekHrs, Length: 103, dtype: int64"
      ]
     },
     "execution_count": 77,
     "metadata": {},
     "output_type": "execute_result"
    }
   ],
   "source": [
    "df[df['WorkRemote'] == \"All or almost all the time (I'm full-time remote)\"]['WorkWeekHrs'].value_counts()"
   ]
  },
  {
   "cell_type": "code",
   "execution_count": null,
   "metadata": {},
   "outputs": [],
   "source": []
  }
 ],
 "metadata": {
  "kernelspec": {
   "display_name": "Python 3",
   "language": "python",
   "name": "python3"
  },
  "language_info": {
   "codemirror_mode": {
    "name": "ipython",
    "version": 3
   },
   "file_extension": ".py",
   "mimetype": "text/x-python",
   "name": "python",
   "nbconvert_exporter": "python",
   "pygments_lexer": "ipython3",
   "version": "3.7.6"
  }
 },
 "nbformat": 4,
 "nbformat_minor": 4
}
