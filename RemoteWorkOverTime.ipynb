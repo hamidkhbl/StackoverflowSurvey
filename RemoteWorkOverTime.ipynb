{
 "cells": [
  {
   "cell_type": "code",
   "execution_count": 1,
   "metadata": {},
   "outputs": [],
   "source": [
    "import numpy as np\n",
    "import pandas as pd"
   ]
  },
  {
   "cell_type": "code",
   "execution_count": 14,
   "metadata": {},
   "outputs": [],
   "source": [
    "# Read Data\n",
    "df_2011 = pd.read_csv('2011 Stack Overflow Survey Responses.csv', encoding =  \"ISO-8859-1\", low_memory=False, header= 1)\n",
    "df_2012 = pd.read_csv('2012 Stack Overflow Survey Responses.csv', encoding =  \"ISO-8859-1\", low_memory=False)\n",
    "df_2013 = pd.read_csv('2013 Stack Overflow Survey Responses.csv', encoding =  \"ISO-8859-1\", low_memory=False)\n",
    "df_2014 = pd.read_csv('2014 Stack Overflow Survey Responses.csv', encoding =  \"ISO-8859-1\", low_memory=False)\n",
    "df_2015 = pd.read_csv('2015 Stack Overflow Developer Survey Responses.csv', encoding =  \"ISO-8859-1\", low_memory=False)\n",
    "df_2016 = pd.read_csv('2016 Stack Overflow Survey Responses.csv', encoding =  \"ISO-8859-1\", low_memory=False)\n",
    "df_2017 = pd.read_csv('survey_results_public_2017.csv', encoding =  \"ISO-8859-1\", low_memory=False)\n",
    "df_2018 = pd.read_csv('survey_results_public_2018.csv', encoding =  \"ISO-8859-1\", low_memory=False)\n",
    "df_2019 = pd.read_csv('survey_results_public_2019.csv', encoding =  \"ISO-8859-1\", low_memory=False)"
   ]
  },
  {
   "cell_type": "code",
   "execution_count": 15,
   "metadata": {},
   "outputs": [],
   "source": [
    "# Add year\n",
    "df_2011['year'] = 2011\n",
    "df_2012['year'] = 2012\n",
    "df_2013['year'] = 2013\n",
    "df_2014['year'] = 2014\n",
    "df_2015['year'] = 2015\n",
    "df_2016['year'] = 2016\n",
    "df_2017['year'] = 2017\n",
    "df_2017['year'] = 2017\n",
    "df_2017['year'] = 2017"
   ]
  },
  {
   "cell_type": "code",
   "execution_count": 16,
   "metadata": {},
   "outputs": [
    {
     "output_type": "stream",
     "name": "stdout",
     "text": "Index(['Africa', 'Unnamed: 1', '< 20', '<2', 'Consulting', 'Start Up (1-25)',\n       'Web Application Developer', 'Not in a million years', 'Unnamed: 8',\n       'Unnamed: 9', 'Approver', 'Unnamed: 11', 'Unnamed: 12', 'Unnamed: 13',\n       'Unnamed: 14', 'Unnamed: 15', 'Unnamed: 16', 'Software', 'Unnamed: 18',\n       'Unnamed: 19', 'Unnamed: 20', 'Unnamed: 21', 'Unnamed: 22',\n       '$25,001 - $40,000', 'Unnamed: 24', 'Unnamed: 25', 'Unnamed: 26',\n       'Unnamed: 27', 'Unnamed: 28', 'Mobile', 'Unnamed: 30', 'JavaScript',\n       'Unnamed: 32', 'Unnamed: 33', 'Unnamed: 34', 'Unnamed: 35',\n       'Unnamed: 36', 'Unnamed: 37', 'Unnamed: 38', 'Unnamed: 39',\n       'Unnamed: 40', 'Unnamed: 41', 'Unnamed: 42', 'Linux', 'FML',\n       'Student / Unemployed', 'iPhone', 'Unnamed: 47', 'Unnamed: 48',\n       'Unnamed: 49', 'Unnamed: 50', 'Unnamed: 51', 'Unnamed: 52',\n       'Unnamed: 53', 'Unnamed: 54', 'Unnamed: 55', 'Unnamed: 56',\n       'Unnamed: 57', 'Unnamed: 58', 'Unnamed: 59', 'Unnamed: 60',\n       'Unnamed: 61', 'Unnamed: 62', '<$100', 'Unnamed: 64', 'year'],\n      dtype='object')\nIndex(['What Country or Region do you live in?',\n       'Which US State or Territory do you live in?', 'How old are you?',\n       'How many years of IT/Programming experience do you have?',\n       'How would you best describe the industry you currently work in?',\n       'Which best describes the size of your company?',\n       'Which of the following best describes your occupation?',\n       'What is your involvement in purchasing products or services for the company you work for? (You can choose more than one)',\n       'Unnamed: 8', 'Unnamed: 9', 'Unnamed: 10', 'Unnamed: 11', 'Unnamed: 12',\n       'Unnamed: 13', 'What types of purchases are you involved in?',\n       'Unnamed: 15', 'Unnamed: 16', 'Unnamed: 17', 'Unnamed: 18',\n       'Unnamed: 19',\n       'What is your budget for outside expenditures (hardware, software, consulting, etc) for 2011?',\n       'What type of project are you developing?',\n       'Which languages are you proficient in?', 'Unnamed: 23', 'Unnamed: 24',\n       'Unnamed: 25', 'Unnamed: 26', 'Unnamed: 27', 'Unnamed: 28',\n       'Unnamed: 29', 'Unnamed: 30', 'Unnamed: 31', 'Unnamed: 32',\n       'Unnamed: 33', 'Unnamed: 34', 'Unnamed: 35', 'Unnamed: 36',\n       'Which desktop operating system do you use the most?',\n       'What best describes your career / job satisfaction? ',\n       'Including bonus, what is your annual compensation in USD?',\n       'Have you visited / Are you aware of Stack Overflow Careers?',\n       'Do you have a Stack Overflow Careers Profile?',\n       'You answered you don't have a Careers profile, can you elaborate why?',\n       'Unnamed: 43',\n       'Which technology products do you own? (You can choose more than one)',\n       'Unnamed: 45', 'Unnamed: 46', 'Unnamed: 47', 'Unnamed: 48',\n       'Unnamed: 49', 'Unnamed: 50', 'Unnamed: 51', 'Unnamed: 52',\n       'Unnamed: 53', 'Unnamed: 54', 'Unnamed: 55', 'Unnamed: 56',\n       'Unnamed: 57', 'Unnamed: 58', 'Unnamed: 59', 'Unnamed: 60',\n       'Unnamed: 61', 'Unnamed: 62', 'Unnamed: 63',\n       'In the last 12 months, how much money have you spent on personal technology-related purchases? ',\n       'Please rate the advertising you've seen on Stack Overflow',\n       'Unnamed: 66', 'Unnamed: 67', 'Unnamed: 68', 'Unnamed: 69',\n       'Unnamed: 70',\n       'What advertisers do you remember seeing on Stack Overflow?',\n       'What is your current Stack Overflow reputation?',\n       'Which of our sites do you frequent most?', 'Unnamed: 74', 'year'],\n      dtype='object')\nIndex(['What Country or Region do you live in?',\n       'Which US State or Territory do you live in?', 'How old are you?',\n       'How many years of IT/Programming experience do you have?',\n       'How would you best describe the industry you currently work in?',\n       'How many people work for your company?',\n       'Which of the following best describes your occupation?',\n       'Including yourself, how many developers are employed at your company?',\n       'How large is the team that you work on?',\n       'What other departments / roles do you interact with regularly?',\n       ...\n       'Unnamed: 119', 'Unnamed: 120', 'Unnamed: 121',\n       'What advertisers do you remember seeing on Stack Overflow?',\n       'What is your current Stack Overflow reputation?',\n       'How do you use Stack Overflow?', 'Unnamed: 125', 'Unnamed: 126',\n       'Unnamed: 127', 'year'],\n      dtype='object', length=129)\nIndex(['What Country do you live in?', 'Unnamed: 1',\n       'Which US State or Territory do you live in?', 'How old are you?',\n       'What is your gender?',\n       'How many years of IT/Programming experience do you have?',\n       'Which of the following best describes your occupation?',\n       'Including bonus, what is your annual compensation in USD?',\n       'How would you best describe the industry you currently work in?',\n       'How many developers are employed at your company?',\n       ...\n       'What advertisers do you remember seeing on Stack Overflow?',\n       'What is your current Stack Overflow reputation?',\n       'How do you use Stack Overflow?', 'Unnamed: 114', 'Unnamed: 115',\n       'Unnamed: 116', 'Unnamed: 117', 'Unnamed: 118',\n       'How often do you find solutions to your programming problems on Stack Overflow without asking a new question?',\n       'year'],\n      dtype='object', length=121)\nIndex(['Unnamed: 0', 'Unnamed: 1', 'Unnamed: 2', 'Unnamed: 3', 'Unnamed: 4',\n       'Unnamed: 5', 'Unnamed: 6', 'Unnamed: 7', 'Select all that apply',\n       'Unnamed: 9',\n       ...\n       'Unnamed: 213', 'Select all that apply.7', 'Unnamed: 215',\n       'Unnamed: 216', 'Unnamed: 217', 'Unnamed: 218', 'Unnamed: 219',\n       'Unnamed: 220', 'Unnamed: 221', 'year'],\n      dtype='object', length=223)\nIndex(['Unnamed: 0', 'collector', 'country', 'un_subregion', 'so_region',\n       'age_range', 'age_midpoint', 'gender', 'self_identification',\n       'occupation', 'occupation_group', 'experience_range',\n       'experience_midpoint', 'salary_range', 'salary_midpoint',\n       'big_mac_index', 'tech_do', 'tech_want', 'aliens',\n       'programming_ability', 'employment_status', 'industry',\n       'company_size_range', 'team_size_range', 'women_on_team', 'remote',\n       'job_satisfaction', 'job_discovery', 'dev_environment',\n       'commit_frequency', 'hobby', 'dogs_vs_cats', 'desktop_os',\n       'unit_testing', 'rep_range', 'visit_frequency', 'why_learn_new_tech',\n       'education', 'open_to_new_job', 'new_job_value', 'job_search_annoyance',\n       'interview_likelihood', 'how_to_improve_interview_process',\n       'star_wars_vs_star_trek', 'agree_tech', 'agree_notice',\n       'agree_problemsolving', 'agree_diversity', 'agree_adblocker',\n       'agree_alcohol', 'agree_loveboss', 'agree_nightcode', 'agree_legacy',\n       'agree_mars', 'important_variety', 'important_control',\n       'important_sameend', 'important_newtech', 'important_buildnew',\n       'important_buildexisting', 'important_promotion',\n       'important_companymission', 'important_wfh', 'important_ownoffice',\n       'developer_challenges', 'why_stack_overflow', 'year'],\n      dtype='object')\nIndex(['Respondent', 'Professional', 'ProgramHobby', 'Country', 'University',\n       'EmploymentStatus', 'FormalEducation', 'MajorUndergrad', 'HomeRemote',\n       'CompanySize',\n       ...\n       'Gender', 'HighestEducationParents', 'Race', 'SurveyLong',\n       'QuestionsInteresting', 'QuestionsConfusing', 'InterestedAnswers',\n       'Salary', 'ExpectedSalary', 'year'],\n      dtype='object', length=155)\nIndex(['Respondent', 'Hobby', 'OpenSource', 'Country', 'Student', 'Employment',\n       'FormalEducation', 'UndergradMajor', 'CompanySize', 'DevType',\n       ...\n       'Exercise', 'Gender', 'SexualOrientation', 'EducationParents',\n       'RaceEthnicity', 'Age', 'Dependents', 'MilitaryUS', 'SurveyTooLong',\n       'SurveyEasy'],\n      dtype='object', length=129)\nIndex(['Respondent', 'MainBranch', 'Hobbyist', 'OpenSourcer', 'OpenSource',\n       'Employment', 'Country', 'Student', 'EdLevel', 'UndergradMajor',\n       'EduOther', 'OrgSize', 'DevType', 'YearsCode', 'Age1stCode',\n       'YearsCodePro', 'CareerSat', 'JobSat', 'MgrIdiot', 'MgrMoney',\n       'MgrWant', 'JobSeek', 'LastHireDate', 'LastInt', 'FizzBuzz',\n       'JobFactors', 'ResumeUpdate', 'CurrencySymbol', 'CurrencyDesc',\n       'CompTotal', 'CompFreq', 'ConvertedComp', 'WorkWeekHrs', 'WorkPlan',\n       'WorkChallenge', 'WorkRemote', 'WorkLoc', 'ImpSyn', 'CodeRev',\n       'CodeRevHrs', 'UnitTests', 'PurchaseHow', 'PurchaseWhat',\n       'LanguageWorkedWith', 'LanguageDesireNextYear', 'DatabaseWorkedWith',\n       'DatabaseDesireNextYear', 'PlatformWorkedWith',\n       'PlatformDesireNextYear', 'WebFrameWorkedWith',\n       'WebFrameDesireNextYear', 'MiscTechWorkedWith',\n       'MiscTechDesireNextYear', 'DevEnviron', 'OpSys', 'Containers',\n       'BlockchainOrg', 'BlockchainIs', 'BetterLife', 'ITperson', 'OffOn',\n       'SocialMedia', 'Extraversion', 'ScreenName', 'SOVisit1st',\n       'SOVisitFreq', 'SOVisitTo', 'SOFindAnswer', 'SOTimeSaved',\n       'SOHowMuchTime', 'SOAccount', 'SOPartFreq', 'SOJobs', 'EntTeams',\n       'SOComm', 'WelcomeChange', 'SONewContent', 'Age', 'Gender', 'Trans',\n       'Sexuality', 'Ethnicity', 'Dependents', 'SurveyLength', 'SurveyEase'],\n      dtype='object')\n"
    }
   ],
   "source": [
    "print(df_2011.columns)\n",
    "print(df_2012.columns)\n",
    "print(df_2013.columns)\n",
    "print(df_2014.columns)\n",
    "print(df_2015.columns)\n",
    "print(df_2016.columns)\n",
    "print(df_2017.columns)\n",
    "print(df_2018.columns)\n",
    "print(df_2019.columns)"
   ]
  },
  {
   "cell_type": "code",
   "execution_count": null,
   "metadata": {},
   "outputs": [],
   "source": []
  }
 ],
 "metadata": {
  "kernelspec": {
   "display_name": "Python 3",
   "language": "python",
   "name": "python3"
  },
  "language_info": {
   "codemirror_mode": {
    "name": "ipython",
    "version": 3
   },
   "file_extension": ".py",
   "mimetype": "text/x-python",
   "name": "python",
   "nbconvert_exporter": "python",
   "pygments_lexer": "ipython3",
   "version": "3.7.6-final"
  }
 },
 "nbformat": 4,
 "nbformat_minor": 4
}